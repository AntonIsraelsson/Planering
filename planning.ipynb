{
 "cells": [
  {
   "cell_type": "code",
   "execution_count": 9,
   "metadata": {},
   "outputs": [],
   "source": [
    "from ortools.sat.python import cp_model\n",
    "import itertools\n",
    "import numpy as np\n",
    "import pandas as pd"
   ]
  },
  {
   "cell_type": "code",
   "execution_count": 12,
   "metadata": {},
   "outputs": [],
   "source": [
    "def init_employee(model, timeslots=4*11, days=5):\n",
    "    \"\"\"\n",
    "    Set up one employee\n",
    "    \"\"\"\n",
    "    # Create a list of all possible shifts\n",
    "    emplyee_times = [[],]*days\n",
    "    for i in range(days):\n",
    "        for j in range(timeslots):\n",
    "            emplyee_times[i].append(model.NewBoolVar('e%i_%i' % (i, j)))\n",
    "    return emplyee_times\n",
    "\n",
    "def create_no_gaps_constraint(model, emplyee_times):\n",
    "    \"\"\"\n",
    "    Create a constraint that there are no gaps in the schedule\n",
    "    \"\"\"\n",
    "    # First add a new variable that is 0 (false) if the employee works at both index i and i+1 and 1 if they are working at i and not at i+1\n",
    "\n",
    "    DAYS = len(emplyee_times)\n",
    "    TIMESLOTS = len(emplyee_times[0])\n",
    "\n",
    "    # Create a list of all possible shifts\n",
    "    emplyee_no_gaps_constraint = [[],]*DAYS\n",
    "    for i in range(DAYS):\n",
    "        for j in range(TIMESLOTS-1):\n",
    "            emplyee_no_gaps_constraint[i].append(model.NewBoolVar('e%i_%i' % (i, j)))\n",
    "            \n",
    "            # Add a constraint that this variable is true if the employee is working at index i but not i+1\n",
    "            model.Add(emplyee_times[i][j] > emplyee_times[i][j+1]).OnlyEnforceIf(emplyee_no_gaps_constraint[i][j])\n",
    "\n",
    "    # Add a constraint that the sum of all these variables is at most 1\n",
    "    for i in range(DAYS):\n",
    "        model.Add(sum(emplyee_no_gaps_constraint[i]) <= 1)\n",
    "\n",
    "def create_desired_times_constraint(model, employees_times, desired_times):\n",
    "    \"\"\" \n",
    "    Create a constraint that at least desired_times[i,j] (integer) employees must work at timeslot j on day i \n",
    "    \"\"\"\n",
    "    N_EMPLOYEES = len(employees_times)\n",
    "    DAYS = len(employees_times[0])\n",
    "    TIMESLOTS = len(employees_times[0][0])\n",
    "\n",
    "    for i in range(DAYS):\n",
    "        for j in range(TIMESLOTS):\n",
    "            model.Add(sum(employees_times[k][i][j] for k in range(N_EMPLOYEES)) >= desired_times[i][j])\n"
   ]
  },
  {
   "cell_type": "code",
   "execution_count": null,
   "metadata": {},
   "outputs": [],
   "source": [
    "def init_schedule(DAY_START, DAY_END, dM):\n",
    "    timeslots = {\"{}:{}\".format(h, m): i for i, (h, m) in enumerate(\n",
    "    itertools.product(range(DAY_START, DAY_END), range(0, 60, dM)))}\n",
    "    ind_to_timeslot = {i: t for t, i in timeslots.items()}\n",
    "    schedule = pd.DataFrame(0, index=timeslots.keys(), columns=['Monday', 'Tuesday', 'Wednesday', 'Thursday', 'Friday'])\n",
    "    return np.array(schedule), schedule, timeslots, ind_to_timeslot"
   ]
  },
  {
   "cell_type": "code",
   "execution_count": 6,
   "metadata": {},
   "outputs": [],
   "source": [
    "# Define employees and shifts\n",
    "employees = {\"Alice\": 0, \"Bob\": 1, \"Carol\": 2, \"Dave\": 3, \"Ed\": 4}\n",
    "\n",
    "# Define the timeslots such that there is one slot per M minutes\n",
    "M = 15\n",
    "assert 60 % M == 0\n",
    "DAY_START = 6\n",
    "DAY_END = 18\n",
    "timeslots = {\"{}:{}\".format(h, m): i for i, (h, m) in enumerate(\n",
    "    itertools.product(range(DAY_START, DAY_END), range(0, 60, M)))}\n",
    "ind_to_timeslot = {i: t for t, i in timeslots.items()}"
   ]
  },
  {
   "cell_type": "code",
   "execution_count": 10,
   "metadata": {},
   "outputs": [],
   "source": [
    "# Create a pandas dataframe to store the schedule with the first column for each timeslot, and the other colmuns are zero columns for 5 days\n",
    "schedule = pd.DataFrame(0, index=timeslots.keys(), columns=['Monday', 'Tuesday', 'Wednesday', 'Thursday', 'Friday'])"
   ]
  },
  {
   "cell_type": "code",
   "execution_count": 11,
   "metadata": {},
   "outputs": [],
   "source": [
    "A = np.array(schedule)"
   ]
  }
 ],
 "metadata": {
  "kernelspec": {
   "display_name": "planering",
   "language": "python",
   "name": "python3"
  },
  "language_info": {
   "codemirror_mode": {
    "name": "ipython",
    "version": 3
   },
   "file_extension": ".py",
   "mimetype": "text/x-python",
   "name": "python",
   "nbconvert_exporter": "python",
   "pygments_lexer": "ipython3",
   "version": "3.10.6"
  },
  "orig_nbformat": 4
 },
 "nbformat": 4,
 "nbformat_minor": 2
}
