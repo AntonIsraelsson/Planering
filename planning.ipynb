{
 "cells": [
  {
   "cell_type": "code",
   "execution_count": 66,
   "metadata": {},
   "outputs": [],
   "source": [
    "from ortools.sat.python import cp_model\n",
    "import itertools\n",
    "import numpy as np\n",
    "import pandas as pd"
   ]
  },
  {
   "cell_type": "code",
   "execution_count": 67,
   "metadata": {},
   "outputs": [],
   "source": [
    "def init_employee(model, timeslots=4*11, days=5, employee=\"IDK\"):\n",
    "    \"\"\"\n",
    "    Set up one employee\n",
    "    \"\"\"\n",
    "    # Create a list of all possible shifts\n",
    "    employee_times = [[] for _ in range(days)]\n",
    "    for i in range(days):\n",
    "        for j in range(timeslots):\n",
    "            employee_times[i].append(model.NewBoolVar('%s_e%i_%i' % (employee, i, j)))\n",
    "    return employee_times\n",
    "\n",
    "def create_no_gaps_constraint(model, emplyee_times):\n",
    "    \"\"\"\n",
    "    Create a constraint that there are no gaps in the schedule\n",
    "    \"\"\"\n",
    "    # First add a new variable that is 0 (false) if the employee works at both index i and i+1 and 1 if they are working at i and not at i+1\n",
    "\n",
    "    DAYS = len(emplyee_times)\n",
    "    TIMESLOTS = len(emplyee_times[0])\n",
    "\n",
    "    # Create a list of all possible shifts\n",
    "    emplyee_no_gaps_constraint = [[],]*DAYS\n",
    "    for i in range(DAYS):\n",
    "        for j in range(TIMESLOTS-1):\n",
    "            emplyee_no_gaps_constraint[i].append(model.NewBoolVar('e%i_%i' % (i, j)))\n",
    "            \n",
    "            # Add a constraint that this variable is true if the employee is working at index i but not i+1\n",
    "            model.Add(emplyee_times[i][j] > emplyee_times[i][j+1]).OnlyEnforceIf(emplyee_no_gaps_constraint[i][j])\n",
    "\n",
    "    # Add a constraint that the sum of all these variables is at most 1\n",
    "    for i in range(DAYS):\n",
    "        model.Add(sum(emplyee_no_gaps_constraint[i]) <= 1)\n",
    "\n",
    "def create_desired_times_constraint(model, employees_times, desired_times):\n",
    "    \"\"\" \n",
    "    Create a constraint that at least desired_times[i,j] (integer) employees must work at timeslot j on day i \n",
    "    \"\"\"\n",
    "    N_EMPLOYEES = len(employees_times)\n",
    "    DAYS = len(employees_times[0])\n",
    "    TIMESLOTS = len(employees_times[0][0])\n",
    "\n",
    "    for i in range(DAYS):\n",
    "        for j in range(TIMESLOTS):\n",
    "            model.Add(sum([employees_times[k][i][j] for k in range(N_EMPLOYEES)]) >= desired_times[i][j])\n"
   ]
  },
  {
   "cell_type": "code",
   "execution_count": 68,
   "metadata": {},
   "outputs": [],
   "source": [
    "def init_schedule(DAY_START, DAY_END, dM):\n",
    "    timeslots = {\"{}:{}\".format(h, m): i for i, (h, m) in enumerate(\n",
    "    itertools.product(range(DAY_START, DAY_END), range(0, 60, dM)))}\n",
    "    ind_to_timeslot = {i: t for t, i in timeslots.items()}\n",
    "    schedule = pd.DataFrame(0, index=timeslots.keys(), columns=['Monday', 'Tuesday', 'Wednesday', 'Thursday', 'Friday'])\n",
    "    return np.array(schedule), schedule, timeslots, ind_to_timeslot"
   ]
  },
  {
   "cell_type": "code",
   "execution_count": 69,
   "metadata": {},
   "outputs": [],
   "source": [
    "employees = [\"Tilda\", \"Annica\", \"Christina\", \"Kristina\", \"Liselott\", \"Lillian\", \"Malin R\", \"Ghada\", \"Nafiseh\", \"Laila\", \"Maria\", \"Lotta\", \"Cecilia\", \"Lina\", \"Anders\"]\n",
    "employees_ind = {i: e for i, e in enumerate(employees)}"
   ]
  },
  {
   "cell_type": "code",
   "execution_count": 70,
   "metadata": {},
   "outputs": [],
   "source": [
    "desired_times = pd.read_csv(\"desired.csv\", delimiter=\"\\t\")\n",
    "\n",
    "DAYS = 5\n",
    "DAY_START = 6\n",
    "DAY_END = 18\n",
    "dM = 15\n",
    "\n",
    "timeslots = {i: \"{}:{}\".format(h, m) for i, (h, m) in enumerate(\n",
    "             itertools.product(range(DAY_START, DAY_END), range(0, 60, dM)))}\n",
    "\n",
    "del timeslots[47]\n",
    "assert len(timeslots) == desired_times.shape[0]"
   ]
  },
  {
   "cell_type": "code",
   "execution_count": 71,
   "metadata": {},
   "outputs": [],
   "source": [
    "# Create the model\n",
    "model = cp_model.CpModel()"
   ]
  },
  {
   "cell_type": "code",
   "execution_count": 72,
   "metadata": {},
   "outputs": [],
   "source": [
    "# For each employee, initialize their schedule\n",
    "employees_times = {}\n",
    "for i in employees_ind.keys():\n",
    "    employees_times[i] = init_employee(model, timeslots=len(timeslots), days=DAYS, employee=employees_ind[i])"
   ]
  },
  {
   "cell_type": "code",
   "execution_count": 73,
   "metadata": {},
   "outputs": [
    {
     "name": "stdout",
     "output_type": "stream",
     "text": [
      "Tilda_e0_0\n"
     ]
    }
   ],
   "source": [
    "print(employees_times[0][0][0])"
   ]
  },
  {
   "cell_type": "code",
   "execution_count": 74,
   "metadata": {},
   "outputs": [],
   "source": [
    "# For each employee, create a constraint that there are no gaps in their schedule\n",
    "for i in employees_ind.keys():\n",
    "    create_no_gaps_constraint(model, employees_times[i])"
   ]
  },
  {
   "cell_type": "code",
   "execution_count": 75,
   "metadata": {},
   "outputs": [],
   "source": [
    "# Add a constraint that at least desired_times[i,j] (integer) employees must work at timeslot j on day i\n",
    "create_desired_times_constraint(model, list(employees_times.values()), np.array(desired_times).T)"
   ]
  },
  {
   "cell_type": "code",
   "execution_count": 76,
   "metadata": {},
   "outputs": [],
   "source": [
    "# Minimize the distance from 40 hours per week\n",
    "# For each employee, create a variable that is the sum of all their shifts\n",
    "employee_numshifts = []\n",
    "for i in employees_ind.keys():\n",
    "    employee_numshifts.append(model.NewIntVar(0, 300, '%s_e%i' % (employees_ind[i], i)))\n",
    "    model.Add(employee_numshifts[i] == sum(employees_times[i][j//len(timeslots)][j%len(timeslots)] for j in range(len(timeslots)*DAYS)))\n",
    "\n",
    "# For each employee, create a variable that is the distance from 40 hours\n",
    "desired_shifts = 40*4 # 40 15 minute shifts per week\n",
    "\n",
    "employee_hours_diff = []\n",
    "for i in employees_ind.keys():\n",
    "    employee_hours_diff.append(model.NewIntVar(-160, 160, '%s_e%i_employee_hours_diff' % (employees_ind[i], i)))\n",
    "    diff_bool = model.NewBoolVar('%s_e%i_bool' % (employees_ind[i], i))\n",
    "\n",
    "    model.Add(employee_numshifts[i] >= desired_shifts).OnlyEnforceIf(diff_bool)\n",
    "    model.Add(employee_numshifts[i] < desired_shifts).OnlyEnforceIf(diff_bool.Not())\n",
    "\n",
    "    model.Add(employee_hours_diff[i] == employee_numshifts[i] - desired_shifts).OnlyEnforceIf(diff_bool)\n",
    "    model.Add(employee_hours_diff[i] == desired_shifts - employee_numshifts[i]).OnlyEnforceIf(diff_bool.Not())\n",
    "    # model.Add(employee_hours_diff[i] >= 0)\n",
    "\n",
    "# Minimize the sum of the distances from 40 hours\n",
    "model.Minimize(sum(employee_hours_diff))"
   ]
  },
  {
   "cell_type": "code",
   "execution_count": 77,
   "metadata": {},
   "outputs": [],
   "source": [
    "# Solve the model\n",
    "solver = cp_model.CpSolver()\n",
    "status = solver.Solve(model)"
   ]
  },
  {
   "cell_type": "code",
   "execution_count": 78,
   "metadata": {},
   "outputs": [
    {
     "name": "stdout",
     "output_type": "stream",
     "text": [
      "Minimum of objective function: 10.0\n",
      "\n",
      "\n",
      "Statistics\n",
      "  status   : FEASIBLE\n",
      "  conflicts: 3307205\n",
      "  branches : 18460121\n",
      "  wall time: 1693.8653896300002 s\n"
     ]
    }
   ],
   "source": [
    "if status == cp_model.OPTIMAL or status == cp_model.FEASIBLE:\n",
    "    print(f'Minimum of objective function: {solver.ObjectiveValue()}\\n')\n",
    "    solution = {}\n",
    "    for i in employees_ind.keys():\n",
    "        solution[employees_ind[i]] = np.zeros((DAYS, len(timeslots)))\n",
    "        for j in range(DAYS):\n",
    "            for k in range(len(timeslots)):\n",
    "                # print(solver.Value(employees_times[i][j][k]))\n",
    "                solution[employees_ind[i]][j, k] = solver.Value(employees_times[i][j][k])\n",
    "\n",
    "    # for i in employees_ind.keys():\n",
    "    #     print(f'{employees_ind[i]}: {solver.Value(employee_numshifts[i])} minutes')\n",
    "else:\n",
    "    print('No solution found.')\n",
    "\n",
    "# Statistics.\n",
    "print('\\nStatistics')\n",
    "print(f'  status   : {solver.StatusName(status)}')\n",
    "print(f'  conflicts: {solver.NumConflicts()}')\n",
    "print(f'  branches : {solver.NumBranches()}')\n",
    "print(f'  wall time: {solver.WallTime()} s')"
   ]
  },
  {
   "cell_type": "code",
   "execution_count": 79,
   "metadata": {},
   "outputs": [],
   "source": [
    "# Solution of Anders to dataframe\n",
    "\n",
    "# Sum over all employees\n",
    "solution_df = pd.DataFrame(index=timeslots.keys(), columns=['Monday', 'Tuesday', 'Wednesday', 'Thursday', 'Friday'], data=np.zeros(solution[\"Tilda\"].T.shape))\n",
    "for i in employees_ind.keys():\n",
    "    solution_df += pd.DataFrame(index=timeslots.keys(), columns=['Monday', 'Tuesday', 'Wednesday', 'Thursday', 'Friday'], data=solution[employees_ind[i]].T)\n",
    "\n",
    "\n",
    "\n",
    "\n",
    "# solution_df = pd.DataFrame(index=timeslots.keys(), columns=['Monday', 'Tuesday', 'Wednesday', 'Thursday', 'Friday'], data=solution[\"Tilda\"].T)"
   ]
  },
  {
   "cell_type": "code",
   "execution_count": 80,
   "metadata": {},
   "outputs": [
    {
     "name": "stdout",
     "output_type": "stream",
     "text": [
      "478.0\n",
      "480.0\n",
      "482.0\n",
      "484.0\n",
      "486.0\n"
     ]
    }
   ],
   "source": [
    "for c in ['Monday', 'Tuesday', 'Wednesday', 'Thursday', 'Friday']:\n",
    "    print(sum(solution_df[c]))"
   ]
  },
  {
   "cell_type": "code",
   "execution_count": null,
   "metadata": {},
   "outputs": [],
   "source": []
  }
 ],
 "metadata": {
  "kernelspec": {
   "display_name": "planering",
   "language": "python",
   "name": "python3"
  },
  "language_info": {
   "codemirror_mode": {
    "name": "ipython",
    "version": 3
   },
   "file_extension": ".py",
   "mimetype": "text/x-python",
   "name": "python",
   "nbconvert_exporter": "python",
   "pygments_lexer": "ipython3",
   "version": "3.10.6"
  },
  "orig_nbformat": 4
 },
 "nbformat": 4,
 "nbformat_minor": 2
}
